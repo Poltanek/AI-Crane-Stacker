{
 "cells": [
  {
   "cell_type": "code",
   "execution_count": 9,
   "metadata": {},
   "outputs": [
    {
     "name": "stdout",
     "output_type": "stream",
     "text": [
      "------- Displayed few of the rows -------\n",
      "      Height      Width       Hue  Times moved  Hours Priority\n",
      "0   7.550614  20.814593  0.294862            0     12      low\n",
      "1   7.705458  18.818473 -0.922008            2     18     high\n",
      "2   7.684569  15.294488 -0.016228            1      4     high\n",
      "3   8.649290  25.282276  0.905113            2      5      low\n",
      "4  11.254993  11.440159  0.482241            1     10      low\n",
      "------- Missing Values -------\n",
      "Height         0\n",
      "Width          0\n",
      "Hue            0\n",
      "Times moved    0\n",
      "Hours          0\n",
      "Priority       0\n",
      "dtype: int64\n",
      "------- Data Types -------\n",
      "<class 'pandas.core.frame.DataFrame'>\n",
      "RangeIndex: 4000 entries, 0 to 3999\n",
      "Data columns (total 6 columns):\n",
      " #   Column       Non-Null Count  Dtype  \n",
      "---  ------       --------------  -----  \n",
      " 0   Height       4000 non-null   float64\n",
      " 1   Width        4000 non-null   float64\n",
      " 2   Hue          4000 non-null   float64\n",
      " 3   Times moved  4000 non-null   int64  \n",
      " 4   Hours        4000 non-null   int64  \n",
      " 5   Priority     4000 non-null   object \n",
      "dtypes: float64(3), int64(2), object(1)\n",
      "memory usage: 187.6+ KB\n",
      "None\n"
     ]
    }
   ],
   "source": [
    "import pandas as pd\n",
    "\n",
    "# Load the dataset\n",
    "container_dataset = pd.read_csv(\"ContainerData.csv\")\n",
    "print(\"------- Displayed few of the rows -------\")\n",
    "print(container_dataset.head())\n",
    "\n",
    "print(\"------- Missing Values -------\")\n",
    "print(container_dataset.isnull().sum())\n",
    "\n",
    "print(\"------- Data Types -------\")\n",
    "print(container_dataset.info())\n"
   ]
  },
  {
   "cell_type": "code",
   "execution_count": 10,
   "metadata": {},
   "outputs": [
    {
     "name": "stdout",
     "output_type": "stream",
     "text": [
      "      Height      Width  Times moved  Hours  Priority  Hue_-0.999928443  \\\n",
      "0   7.550614  20.814593            0     12         1             False   \n",
      "1   7.705458  18.818473            2     18         0             False   \n",
      "2   7.684569  15.294488            1      4         0             False   \n",
      "3   8.649290  25.282276            2      5         1             False   \n",
      "4  11.254993  11.440159            1     10         1             False   \n",
      "\n",
      "   Hue_-0.999834185  Hue_-0.999809045  Hue_-0.999296776  Hue_-0.999134059  \\\n",
      "0             False             False             False             False   \n",
      "1             False             False             False             False   \n",
      "2             False             False             False             False   \n",
      "3             False             False             False             False   \n",
      "4             False             False             False             False   \n",
      "\n",
      "   ...  Hue_0.996052246  Hue_0.996239313  Hue_0.996265631  Hue_0.996554528  \\\n",
      "0  ...            False            False            False            False   \n",
      "1  ...            False            False            False            False   \n",
      "2  ...            False            False            False            False   \n",
      "3  ...            False            False            False            False   \n",
      "4  ...            False            False            False            False   \n",
      "\n",
      "   Hue_0.997040161  Hue_0.997185998  Hue_0.99791905  Hue_0.998490054  \\\n",
      "0            False            False           False            False   \n",
      "1            False            False           False            False   \n",
      "2            False            False           False            False   \n",
      "3            False            False           False            False   \n",
      "4            False            False           False            False   \n",
      "\n",
      "   Hue_0.999136194  Hue_0.999877444  \n",
      "0            False            False  \n",
      "1            False            False  \n",
      "2            False            False  \n",
      "3            False            False  \n",
      "4            False            False  \n",
      "\n",
      "[5 rows x 4005 columns]\n"
     ]
    }
   ],
   "source": [
    "from sklearn.preprocessing import LabelEncoder\n",
    "\n",
    "label_encoder = LabelEncoder()\n",
    "container_dataset[\"Priority\"] = label_encoder.fit_transform(container_dataset[\"Priority\"])\n",
    "\n",
    "container_dataset = pd.get_dummies(container_dataset, columns=[\"Hue\"])\n",
    "\n",
    "print(container_dataset.head())"
   ]
  },
  {
   "cell_type": "code",
   "execution_count": 11,
   "metadata": {},
   "outputs": [
    {
     "name": "stdout",
     "output_type": "stream",
     "text": [
      "Training samples: 3200, Testing samples: 800\n"
     ]
    }
   ],
   "source": [
    "from sklearn.model_selection import train_test_split\n",
    "\n",
    "x = container_dataset.drop(\"Priority\", axis=1) # All columns except priority\n",
    "y = container_dataset[\"Priority\"]\n",
    "\n",
    "x_train, x_test, y_train, y_test = train_test_split(x, y, test_size=0.2, random_state=42)\n",
    "\n",
    "print(f\"Training samples: {len(x_train)}, Testing samples: {len(x_test)}\")\n"
   ]
  },
  {
   "cell_type": "code",
   "execution_count": 12,
   "metadata": {},
   "outputs": [
    {
     "name": "stdout",
     "output_type": "stream",
     "text": [
      "Accuracy: 0.95\n",
      "              precision    recall  f1-score   support\n",
      "\n",
      "           0       0.99      0.90      0.95       413\n",
      "           1       0.91      0.99      0.95       387\n",
      "\n",
      "    accuracy                           0.95       800\n",
      "   macro avg       0.95      0.95      0.95       800\n",
      "weighted avg       0.95      0.95      0.95       800\n",
      "\n"
     ]
    }
   ],
   "source": [
    "# Decision Tree is a simple and effective for structuring our data \n",
    "\n",
    "from sklearn.tree import DecisionTreeClassifier\n",
    "from sklearn.metrics import accuracy_score, classification_report\n",
    "\n",
    "ML_Model = DecisionTreeClassifier(max_depth=5, random_state=42)\n",
    "\n",
    "ML_Model.fit(x_train, y_train)\n",
    "\n",
    "y_prediction = ML_Model.predict(x_test)\n",
    "\n",
    "Accuracy = accuracy_score(y_test, y_prediction) \n",
    "print(f\"Accuracy: {Accuracy:.2f}\")\n",
    "print(classification_report(y_test, y_prediction))"
   ]
  },
  {
   "cell_type": "code",
   "execution_count": 13,
   "metadata": {},
   "outputs": [
    {
     "name": "stdout",
     "output_type": "stream",
     "text": [
      "Predicted priority: Low\n"
     ]
    }
   ],
   "source": [
    "# [height, width, Hue, times_moved, hours_in_dock=10]\n",
    "# Store feature names\n",
    "feature_names = x.columns\n",
    "\n",
    "# Create a new container matching the transformed features\n",
    "new_container = pd.DataFrame([[2.5, 1.8, 3, 10, 0]], columns=['Height', 'Width', 'Hue', 'Times moved', 'Hours'])\n",
    "\n",
    "# Convert 'Hue' into one-hot encoding like training\n",
    "new_container = pd.get_dummies(new_container, columns=['Hue'])\n",
    "\n",
    "# Ensure columns match by reindexing\n",
    "new_container = new_container.reindex(columns=feature_names, fill_value=0)\n",
    "\n",
    "# Now predict\n",
    "predicted_priority = ML_Model.predict(new_container)[0]\n",
    "priority_label = \"High\" if predicted_priority == 1 else \"Low\"\n",
    "\n",
    "print(f\"Predicted priority: {priority_label}\")\n",
    "\n"
   ]
  },
  {
   "cell_type": "code",
   "execution_count": 14,
   "metadata": {},
   "outputs": [
    {
     "name": "stdout",
     "output_type": "stream",
     "text": [
      "Model saved as 'container_priority_model.joblib'\n"
     ]
    }
   ],
   "source": [
    "from joblib import dump\n",
    "\n",
    "# Save the trained ML model\n",
    "dump(ML_Model, 'container_priority_model.joblib')\n",
    "\n",
    "print(\"Model saved as 'container_priority_model.joblib'\")\n"
   ]
  },
  {
   "cell_type": "markdown",
   "metadata": {},
   "source": [
    "# Approach\n",
    "\n",
    "- Using Decision Tree Classifer to predict whether a container has high or low priority \n",
    "- The dataset contained 5 features about each container "
   ]
  }
 ],
 "metadata": {
  "kernelspec": {
   "display_name": "Python 3",
   "language": "python",
   "name": "python3"
  },
  "language_info": {
   "codemirror_mode": {
    "name": "ipython",
    "version": 3
   },
   "file_extension": ".py",
   "mimetype": "text/x-python",
   "name": "python",
   "nbconvert_exporter": "python",
   "pygments_lexer": "ipython3",
   "version": "3.12.6"
  }
 },
 "nbformat": 4,
 "nbformat_minor": 2
}
