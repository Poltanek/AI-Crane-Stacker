{
 "cells": [
  {
   "cell_type": "code",
   "execution_count": 7,
   "metadata": {},
   "outputs": [
    {
     "name": "stdout",
     "output_type": "stream",
     "text": [
      "[1, 2] <-[3]-\n",
      "[]\n",
      "[4]\n",
      "[5, 6]\n",
      "Total cost: 0\n",
      "\n"
     ]
    }
   ],
   "source": [
    "import copy\n",
    "\n",
    "bays = [[1,2],[],[4],[5, 6]]\n",
    "\n",
    "crane_position = 0\n",
    "crane_container_held = 3\n",
    "initial_cost = 0\n",
    "\n",
    "\n",
    "def print_state(state_and_time):\n",
    "    state = state_and_time[0]\n",
    "    for i in range(len(state[0])):\n",
    "        if i == state[1]:\n",
    "            print(str(state[0][i])+\" <-[\"+str(state[2])+\"]-\")\n",
    "        else:\n",
    "            print(str(state[0][i]))\n",
    "    print(\"Total cost: \"+str(state_and_time[1]))\n",
    "    print()\n",
    "\n",
    "\n",
    "initial_state = ([bays, crane_position, crane_container_held], 0)\n",
    "print_state(initial_state)"
   ]
  },
  {
   "cell_type": "code",
   "execution_count": 8,
   "metadata": {},
   "outputs": [
    {
     "name": "stdout",
     "output_type": "stream",
     "text": [
      "[1, 2]\n",
      "[] <-[3]-\n",
      "[4]\n",
      "[5, 6]\n",
      "Total cost: 1\n",
      "\n",
      "[1, 2, 3] <-[None]-\n",
      "[]\n",
      "[4]\n",
      "[5, 6]\n",
      "Total cost: 2\n",
      "\n",
      "[1, 2]\n",
      "[]\n",
      "[4]\n",
      "[5, 6] <-[3]-\n",
      "Total cost: 10\n",
      "\n",
      "[1, 2]\n",
      "[3]\n",
      "[] <-[4]-\n",
      "[5, 6]\n",
      "Total cost: 7\n",
      "\n"
     ]
    }
   ],
   "source": [
    "def perform_action(state,action):\n",
    "  new_state = copy.deepcopy(state[0])\n",
    "  new_state_cost = state[1]\n",
    "  cost = 0\n",
    "  \n",
    "  if action == \"RIGHT\":\n",
    "    if new_state[1] >= (len(new_state[0]) -1):\n",
    "      return None\n",
    "    new_state[1] = int(new_state[1])+1\n",
    "    cost = 1\n",
    "  if action == \"LEFT\":\n",
    "    if new_state[1] <= 0:\n",
    "      return None\n",
    "    new_state[1] = int(new_state[1])-1\n",
    "    cost = 1\n",
    "  if action == \"DROP\":\n",
    "    if new_state[2] == None:\n",
    "      return None\n",
    "    container = new_state[2]\n",
    "    new_state[2] = None\n",
    "    new_state[0][new_state[1]].append(container)\n",
    "    cost = 2\n",
    "  if action == \"PICK\":\n",
    "    if new_state[2] != None:\n",
    "      return None\n",
    "    if len(new_state[0][new_state[1]]) == 0:\n",
    "      return None\n",
    "    container = new_state[0][new_state[1]].pop()\n",
    "    new_state[2] = container\n",
    "    cost = 3\n",
    "  return new_state, new_state_cost+cost\n",
    "\n",
    "def perform_action_sequence(state,actions):\n",
    "  new_state = state\n",
    "  for action in actions:\n",
    "    new_state = perform_action(new_state, action)\n",
    "  return new_state\n",
    "\n",
    "\n",
    "print_state(perform_action(initial_state,\"RIGHT\"))\n",
    "print_state(perform_action(initial_state,\"DROP\"))\n",
    "print_state(perform_action_sequence(initial_state,[\"RIGHT\",\"DROP\", \"PICK\", \"RIGHT\", \"RIGHT\", \"LEFT\", \"RIGHT\"]))\n",
    "print_state(perform_action_sequence(initial_state,[\"RIGHT\",\"DROP\",\"RIGHT\",\"PICK\"]))"
   ]
  },
  {
   "cell_type": "code",
   "execution_count": null,
   "metadata": {},
   "outputs": [],
   "source": [
    "import copy\n",
    "import time\n",
    "import random\n",
    "\n",
    "all_actions = [\"DROP\", \"PICK\", \"LEFT\", \"RIGHT\"]\n",
    "\n",
    "def action_validity(state, action):\n",
    "    if perform_action(state, action):\n",
    "        return True\n",
    "    else:\n",
    "        return False\n",
    "    \n",
    "def is_goal_state(state):\n",
    "    for bay in state[0]:\n",
    "        if len(bay) == 0:\n",
    "            return False\n",
    "        return True\n",
    "    \n",
    "    "
   ]
  }
 ],
 "metadata": {
  "kernelspec": {
   "display_name": "Python 3",
   "language": "python",
   "name": "python3"
  },
  "language_info": {
   "codemirror_mode": {
    "name": "ipython",
    "version": 3
   },
   "file_extension": ".py",
   "mimetype": "text/x-python",
   "name": "python",
   "nbconvert_exporter": "python",
   "pygments_lexer": "ipython3",
   "version": "3.12.6"
  }
 },
 "nbformat": 4,
 "nbformat_minor": 2
}
